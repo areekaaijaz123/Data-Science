{
 "cells": [
  {
   "cell_type": "code",
   "execution_count": 1,
   "metadata": {},
   "outputs": [],
   "source": [
    "import pandas as pd\n",
    "import numpy as np\n",
    "from sklearn.model_selection import train_test_split\n",
    "from sklearn.metrics import classification_report\n",
    "from sklearn.metrics import confusion_matrix\n",
    "from sklearn.metrics import accuracy_score\n",
    "from sklearn.neighbors import KNeighborsClassifier"
   ]
  },
  {
   "cell_type": "code",
   "execution_count": 2,
   "metadata": {},
   "outputs": [],
   "source": [
    "def chi_square(X, Y):\n",
    "    return (np.sum(((X-Y)**2)/(X+Y+1)))"
   ]
  },
  {
   "cell_type": "markdown",
   "metadata": {},
   "source": [
    "# Iris Data"
   ]
  },
  {
   "cell_type": "code",
   "execution_count": 3,
   "metadata": {},
   "outputs": [],
   "source": [
    "names = ['sepal-length', 'sepal-width', 'petal-length', 'petal-width', 'class']\n",
    "dataset = pd.read_csv(\"C:\\\\Users\\\\Areeka Aijaz\\\\Desktop\\\\Lab 4\\\\Iris\\\\iris.data\", names=names)"
   ]
  },
  {
   "cell_type": "code",
   "execution_count": 4,
   "metadata": {},
   "outputs": [],
   "source": [
    "array = dataset.values\n",
    "X = array[:,0:4]\n",
    "Y = array[:,4]\n",
    "t_size = 0.20\n",
    "seed = 7\n",
    "X_train, X_test, Y_train, Y_test = train_test_split(X, Y, test_size=t_size, random_state=seed)"
   ]
  },
  {
   "cell_type": "code",
   "execution_count": 5,
   "metadata": {},
   "outputs": [
    {
     "name": "stdout",
     "output_type": "stream",
     "text": [
      "Accuracy Score:  0.9\n",
      "\n",
      "Confusion Matrix\n",
      " [[ 7  0  0]\n",
      " [ 0 10  2]\n",
      " [ 0  1 10]]\n",
      "\n",
      "Classification Report\n",
      "                  precision    recall  f1-score   support\n",
      "\n",
      "    Iris-setosa       1.00      1.00      1.00         7\n",
      "Iris-versicolor       0.91      0.83      0.87        12\n",
      " Iris-virginica       0.83      0.91      0.87        11\n",
      "\n",
      "      micro avg       0.90      0.90      0.90        30\n",
      "      macro avg       0.91      0.91      0.91        30\n",
      "   weighted avg       0.90      0.90      0.90        30\n",
      "\n"
     ]
    }
   ],
   "source": [
    "knn = KNeighborsClassifier(n_neighbors=3, metric=chi_square) \n",
    "knn.fit(X_train, Y_train) \n",
    "predictions = knn.predict(X_test) \n",
    "print(\"Accuracy Score: \",accuracy_score(Y_test, predictions)) \n",
    "print(\"\\nConfusion Matrix\\n\",confusion_matrix(Y_test, predictions)) \n",
    "print(\"\\nClassification Report\\n\",classification_report(Y_test, predictions))"
   ]
  },
  {
   "cell_type": "code",
   "execution_count": 6,
   "metadata": {},
   "outputs": [],
   "source": [
    "#dis = knn.kneighbors(X=X_train, n_neighbors=3, return_distance=True)\n",
    "#for i in range(20):\n",
    "#    print(dis[0][i], dis[1][i])"
   ]
  },
  {
   "cell_type": "markdown",
   "metadata": {},
   "source": [
    "# Occupency Detection Data"
   ]
  },
  {
   "cell_type": "code",
   "execution_count": 7,
   "metadata": {},
   "outputs": [],
   "source": [
    "# Read Training Set\n",
    "trainingset = pd.read_csv(\"C:\\\\Users\\\\Areeka Aijaz\\\\Desktop\\\\Lab 4\\\\Occupency_Detection\\\\datatraining.txt\")\n",
    "\n",
    "X_train = trainingset.iloc[:, 1:-1]\n",
    "Y_train = trainingset.iloc[:,-1:].values.ravel()\n",
    "\n",
    "# Read Testing Set 1\n",
    "testingset1 = pd.read_csv(\"C:\\\\Users\\\\Areeka Aijaz\\\\Desktop\\\\Lab 4\\\\Occupency_Detection\\\\datatest.txt\")\n",
    "\n",
    "X_test1 = testingset1.iloc[:, 1:-1]\n",
    "Y_test1 = testingset1.iloc[:,-1:].values.ravel()\n",
    "\n",
    "# Read Testing Set 2\n",
    "testingset2 = pd.read_csv(\"C:\\\\Users\\\\Areeka Aijaz\\\\Desktop\\\\Lab 4\\\\Occupency_Detection\\\\datatest2.txt\")\n",
    "\n",
    "X_test2 = testingset2.iloc[:, 1:-1]\n",
    "Y_test2 = testingset2.iloc[:,-1:].values.ravel()"
   ]
  },
  {
   "cell_type": "code",
   "execution_count": 8,
   "metadata": {},
   "outputs": [
    {
     "name": "stdout",
     "output_type": "stream",
     "text": [
      "------Test Set 1---------\n",
      "Accuracy Score:  0.92\n",
      "\n",
      "Confusion Matrix\n",
      " [[1648   45]\n",
      " [ 157  815]]\n",
      "\n",
      "Classification Report\n",
      "               precision    recall  f1-score   support\n",
      "\n",
      "           0       0.91      0.97      0.94      1693\n",
      "           1       0.95      0.84      0.89       972\n",
      "\n",
      "   micro avg       0.92      0.92      0.92      2665\n",
      "   macro avg       0.93      0.91      0.92      2665\n",
      "weighted avg       0.93      0.92      0.92      2665\n",
      "\n"
     ]
    }
   ],
   "source": [
    "#np.seterr(divide='ignore', invalid='ignore')\n",
    "knn = KNeighborsClassifier(n_neighbors=3, metric=chi_square) \n",
    "knn.fit(X_train, Y_train) \n",
    "\n",
    "print(\"------Test Set 1---------\")\n",
    "\n",
    "predictions = knn.predict(X_test1) \n",
    "print(\"Accuracy Score: \", round(accuracy_score(Y_test1, predictions), 2)) \n",
    "print(\"\\nConfusion Matrix\\n\",confusion_matrix(Y_test1, predictions)) \n",
    "print(\"\\nClassification Report\\n\",classification_report(Y_test1, predictions))"
   ]
  },
  {
   "cell_type": "code",
   "execution_count": 9,
   "metadata": {},
   "outputs": [
    {
     "name": "stdout",
     "output_type": "stream",
     "text": [
      "------Test Set 2---------\n",
      "Accuracy Score:  0.96\n",
      "\n",
      "Confusion Matrix\n",
      " [[7385  318]\n",
      " [ 111 1938]]\n",
      "\n",
      "Classification Report\n",
      "               precision    recall  f1-score   support\n",
      "\n",
      "           0       0.99      0.96      0.97      7703\n",
      "           1       0.86      0.95      0.90      2049\n",
      "\n",
      "   micro avg       0.96      0.96      0.96      9752\n",
      "   macro avg       0.92      0.95      0.94      9752\n",
      "weighted avg       0.96      0.96      0.96      9752\n",
      "\n"
     ]
    }
   ],
   "source": [
    "knn = KNeighborsClassifier(n_neighbors=3, metric=chi_square) \n",
    "knn.fit(X_train, Y_train) \n",
    "\n",
    "print(\"------Test Set 2---------\")\n",
    "\n",
    "predictions = knn.predict(X_test2) \n",
    "print(\"Accuracy Score: \", round(accuracy_score(Y_test2, predictions), 2)) \n",
    "print(\"\\nConfusion Matrix\\n\",confusion_matrix(Y_test2, predictions)) \n",
    "print(\"\\nClassification Report\\n\",classification_report(Y_test2, predictions))"
   ]
  },
  {
   "cell_type": "code",
   "execution_count": null,
   "metadata": {},
   "outputs": [],
   "source": []
  }
 ],
 "metadata": {
  "kernelspec": {
   "display_name": "Python 3",
   "language": "python",
   "name": "python3"
  },
  "language_info": {
   "codemirror_mode": {
    "name": "ipython",
    "version": 3
   },
   "file_extension": ".py",
   "mimetype": "text/x-python",
   "name": "python",
   "nbconvert_exporter": "python",
   "pygments_lexer": "ipython3",
   "version": "3.7.3"
  }
 },
 "nbformat": 4,
 "nbformat_minor": 2
}
