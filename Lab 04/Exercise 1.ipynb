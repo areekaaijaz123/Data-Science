{
 "cells": [
  {
   "cell_type": "code",
   "execution_count": 1,
   "metadata": {},
   "outputs": [],
   "source": [
    "import pandas as pd\n",
    "from sklearn.model_selection import train_test_split\n",
    "from sklearn.metrics import classification_report\n",
    "from sklearn.metrics import confusion_matrix\n",
    "from sklearn.metrics import accuracy_score\n",
    "from sklearn.neighbors import KNeighborsClassifier"
   ]
  },
  {
   "cell_type": "markdown",
   "metadata": {},
   "source": [
    "# (a) Load data set using pandas library"
   ]
  },
  {
   "cell_type": "code",
   "execution_count": 2,
   "metadata": {},
   "outputs": [],
   "source": [
    "names = ['sepal-length', 'sepal-width', 'petal-length', 'petal-width', 'class']\n",
    "dataset = pd.read_csv(\"C:\\\\Users\\\\Areeka Aijaz\\\\Desktop\\\\Lab 4\\\\Iris\\\\iris.data\", names=names)"
   ]
  },
  {
   "cell_type": "markdown",
   "metadata": {},
   "source": [
    "# (b) Print the size of data set "
   ]
  },
  {
   "cell_type": "code",
   "execution_count": 3,
   "metadata": {},
   "outputs": [
    {
     "data": {
      "text/plain": [
       "(150, 5)"
      ]
     },
     "execution_count": 3,
     "metadata": {},
     "output_type": "execute_result"
    }
   ],
   "source": [
    "dataset.shape"
   ]
  },
  {
   "cell_type": "markdown",
   "metadata": {},
   "source": [
    "# (c) Display the class distribution"
   ]
  },
  {
   "cell_type": "code",
   "execution_count": 4,
   "metadata": {},
   "outputs": [
    {
     "data": {
      "text/plain": [
       "class\n",
       "Iris-setosa        50\n",
       "Iris-versicolor    50\n",
       "Iris-virginica     50\n",
       "dtype: int64"
      ]
     },
     "execution_count": 4,
     "metadata": {},
     "output_type": "execute_result"
    }
   ],
   "source": [
    "dataset.groupby('class').size()"
   ]
  },
  {
   "cell_type": "markdown",
   "metadata": {},
   "source": [
    "# (d) Split using hold out approach (80/20)"
   ]
  },
  {
   "cell_type": "code",
   "execution_count": 5,
   "metadata": {},
   "outputs": [],
   "source": [
    "array = dataset.values\n",
    "X = array[:,0:4]\n",
    "Y = array[:,4]\n",
    "t_size = 0.20\n",
    "seed = 7\n",
    "X_train, X_test, Y_train, Y_test = train_test_split(X, Y, test_size=t_size, random_state=seed)"
   ]
  },
  {
   "cell_type": "markdown",
   "metadata": {},
   "source": [
    "# (e) Apply knn classifier"
   ]
  },
  {
   "cell_type": "code",
   "execution_count": 6,
   "metadata": {},
   "outputs": [
    {
     "name": "stdout",
     "output_type": "stream",
     "text": [
      "Accuracy Score:  0.9\n",
      "\n",
      "Confusion Matrix\n",
      " [[ 7  0  0]\n",
      " [ 0 11  1]\n",
      " [ 0  2  9]]\n",
      "\n",
      "Classification Report\n",
      "                  precision    recall  f1-score   support\n",
      "\n",
      "    Iris-setosa       1.00      1.00      1.00         7\n",
      "Iris-versicolor       0.85      0.92      0.88        12\n",
      " Iris-virginica       0.90      0.82      0.86        11\n",
      "\n",
      "      micro avg       0.90      0.90      0.90        30\n",
      "      macro avg       0.92      0.91      0.91        30\n",
      "   weighted avg       0.90      0.90      0.90        30\n",
      "\n"
     ]
    }
   ],
   "source": [
    "knn = KNeighborsClassifier() \n",
    "knn.fit(X_train, Y_train) \n",
    "predictions = knn.predict(X_test) \n",
    "print(\"Accuracy Score: \",accuracy_score(Y_test, predictions)) \n",
    "print(\"\\nConfusion Matrix\\n\",confusion_matrix(Y_test, predictions)) \n",
    "print(\"\\nClassification Report\\n\",classification_report(Y_test, predictions))"
   ]
  },
  {
   "cell_type": "markdown",
   "metadata": {},
   "source": [
    "# (f) Change value of k"
   ]
  },
  {
   "cell_type": "code",
   "execution_count": 7,
   "metadata": {},
   "outputs": [],
   "source": [
    "def knn_(K, X_train, Y_train, X_test, Y_test):\n",
    "    knn = KNeighborsClassifier(n_neighbors=K) \n",
    "    knn.fit(X_train, Y_train) \n",
    "    predictions = knn.predict(X_test) \n",
    "    print(f\"K = {K}, Accuracy Score: {accuracy_score(Y_test, predictions)}\") "
   ]
  },
  {
   "cell_type": "code",
   "execution_count": 9,
   "metadata": {},
   "outputs": [
    {
     "name": "stdout",
     "output_type": "stream",
     "text": [
      "K = 1, Accuracy Score: 0.9\n",
      "K = 2, Accuracy Score: 0.9333333333333333\n",
      "K = 3, Accuracy Score: 0.9\n",
      "K = 4, Accuracy Score: 0.9333333333333333\n",
      "K = 5, Accuracy Score: 0.9\n",
      "K = 6, Accuracy Score: 0.8666666666666667\n",
      "K = 7, Accuracy Score: 0.8666666666666667\n",
      "K = 8, Accuracy Score: 0.9\n",
      "K = 9, Accuracy Score: 0.9\n"
     ]
    }
   ],
   "source": [
    "for i in range(1,10):\n",
    "    knn_(i, X_train, Y_train, X_test, Y_test)"
   ]
  },
  {
   "cell_type": "markdown",
   "metadata": {},
   "source": [
    "# (g) Change Value of Seed "
   ]
  },
  {
   "cell_type": "code",
   "execution_count": 10,
   "metadata": {},
   "outputs": [],
   "source": [
    "def knn__(seed, X, Y):\n",
    "    X_train, X_test, Y_train, Y_test = train_test_split(X, Y, test_size=t_size, random_state=seed)\n",
    "    knn = KNeighborsClassifier() \n",
    "    knn.fit(X_train, Y_train) \n",
    "    predictions = knn.predict(X_test) \n",
    "    print(f\"Seed = {seed}, Accuracy Score: {accuracy_score(Y_test, predictions)}\")     "
   ]
  },
  {
   "cell_type": "code",
   "execution_count": 11,
   "metadata": {},
   "outputs": [
    {
     "name": "stdout",
     "output_type": "stream",
     "text": [
      "Seed = 1, Accuracy Score: 1.0\n",
      "Seed = 2, Accuracy Score: 1.0\n",
      "Seed = 3, Accuracy Score: 0.9666666666666667\n",
      "Seed = 4, Accuracy Score: 0.9666666666666667\n",
      "Seed = 5, Accuracy Score: 0.9333333333333333\n",
      "Seed = 6, Accuracy Score: 0.9666666666666667\n",
      "Seed = 7, Accuracy Score: 0.9\n",
      "Seed = 8, Accuracy Score: 0.9\n",
      "Seed = 9, Accuracy Score: 1.0\n"
     ]
    }
   ],
   "source": [
    "for i in range(1,10):\n",
    "    knn__(i, X, Y)"
   ]
  },
  {
   "cell_type": "code",
   "execution_count": null,
   "metadata": {},
   "outputs": [],
   "source": []
  }
 ],
 "metadata": {
  "kernelspec": {
   "display_name": "Python 3",
   "language": "python",
   "name": "python3"
  },
  "language_info": {
   "codemirror_mode": {
    "name": "ipython",
    "version": 3
   },
   "file_extension": ".py",
   "mimetype": "text/x-python",
   "name": "python",
   "nbconvert_exporter": "python",
   "pygments_lexer": "ipython3",
   "version": "3.7.3"
  }
 },
 "nbformat": 4,
 "nbformat_minor": 2
}
