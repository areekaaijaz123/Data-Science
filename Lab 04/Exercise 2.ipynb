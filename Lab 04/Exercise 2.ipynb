{
 "cells": [
  {
   "cell_type": "code",
   "execution_count": 1,
   "metadata": {},
   "outputs": [],
   "source": [
    "import pandas as pd\n",
    "import sys\n",
    "from sklearn.model_selection import train_test_split\n",
    "from sklearn.metrics import classification_report\n",
    "from sklearn.metrics import confusion_matrix\n",
    "from sklearn.metrics import accuracy_score\n",
    "from sklearn.neighbors import KNeighborsClassifier"
   ]
  },
  {
   "cell_type": "markdown",
   "metadata": {},
   "source": [
    "# Load Training Set"
   ]
  },
  {
   "cell_type": "code",
   "execution_count": 2,
   "metadata": {},
   "outputs": [
    {
     "data": {
      "text/html": [
       "<div>\n",
       "<style scoped>\n",
       "    .dataframe tbody tr th:only-of-type {\n",
       "        vertical-align: middle;\n",
       "    }\n",
       "\n",
       "    .dataframe tbody tr th {\n",
       "        vertical-align: top;\n",
       "    }\n",
       "\n",
       "    .dataframe thead th {\n",
       "        text-align: right;\n",
       "    }\n",
       "</style>\n",
       "<table border=\"1\" class=\"dataframe\">\n",
       "  <thead>\n",
       "    <tr style=\"text-align: right;\">\n",
       "      <th></th>\n",
       "      <th>Temperature</th>\n",
       "      <th>Humidity</th>\n",
       "      <th>Light</th>\n",
       "      <th>CO2</th>\n",
       "      <th>HumidityRatio</th>\n",
       "    </tr>\n",
       "  </thead>\n",
       "  <tbody>\n",
       "    <tr>\n",
       "      <th>1</th>\n",
       "      <td>23.18</td>\n",
       "      <td>27.2720</td>\n",
       "      <td>426.0</td>\n",
       "      <td>721.25</td>\n",
       "      <td>0.004793</td>\n",
       "    </tr>\n",
       "    <tr>\n",
       "      <th>2</th>\n",
       "      <td>23.15</td>\n",
       "      <td>27.2675</td>\n",
       "      <td>429.5</td>\n",
       "      <td>714.00</td>\n",
       "      <td>0.004783</td>\n",
       "    </tr>\n",
       "    <tr>\n",
       "      <th>3</th>\n",
       "      <td>23.15</td>\n",
       "      <td>27.2450</td>\n",
       "      <td>426.0</td>\n",
       "      <td>713.50</td>\n",
       "      <td>0.004779</td>\n",
       "    </tr>\n",
       "    <tr>\n",
       "      <th>4</th>\n",
       "      <td>23.15</td>\n",
       "      <td>27.2000</td>\n",
       "      <td>426.0</td>\n",
       "      <td>708.25</td>\n",
       "      <td>0.004772</td>\n",
       "    </tr>\n",
       "    <tr>\n",
       "      <th>5</th>\n",
       "      <td>23.10</td>\n",
       "      <td>27.2000</td>\n",
       "      <td>426.0</td>\n",
       "      <td>704.50</td>\n",
       "      <td>0.004757</td>\n",
       "    </tr>\n",
       "  </tbody>\n",
       "</table>\n",
       "</div>"
      ],
      "text/plain": [
       "   Temperature  Humidity  Light     CO2  HumidityRatio\n",
       "1        23.18   27.2720  426.0  721.25       0.004793\n",
       "2        23.15   27.2675  429.5  714.00       0.004783\n",
       "3        23.15   27.2450  426.0  713.50       0.004779\n",
       "4        23.15   27.2000  426.0  708.25       0.004772\n",
       "5        23.10   27.2000  426.0  704.50       0.004757"
      ]
     },
     "execution_count": 2,
     "metadata": {},
     "output_type": "execute_result"
    }
   ],
   "source": [
    "trainingset = pd.read_csv(\"C:\\\\Users\\\\Areeka Aijaz\\\\Desktop\\\\Lab 4\\\\Occupency_Detection\\\\datatraining.txt\")\n",
    "\n",
    "X_train = trainingset.iloc[:, 1:-1]\n",
    "Y_train = trainingset.iloc[:,-1:].values.ravel()\n",
    "\n",
    "X_train.head()"
   ]
  },
  {
   "cell_type": "markdown",
   "metadata": {},
   "source": [
    "# Load & Predict Testset 1"
   ]
  },
  {
   "cell_type": "code",
   "execution_count": 3,
   "metadata": {},
   "outputs": [
    {
     "name": "stdout",
     "output_type": "stream",
     "text": [
      "------Test Set 1---------\n",
      "Accuracy Score:  0.94\n",
      "\n",
      "Confusion Matrix\n",
      " [[1645   48]\n",
      " [ 105  867]]\n",
      "\n",
      "Classification Report\n",
      "               precision    recall  f1-score   support\n",
      "\n",
      "           0       0.94      0.97      0.96      1693\n",
      "           1       0.95      0.89      0.92       972\n",
      "\n",
      "   micro avg       0.94      0.94      0.94      2665\n",
      "   macro avg       0.94      0.93      0.94      2665\n",
      "weighted avg       0.94      0.94      0.94      2665\n",
      "\n"
     ]
    }
   ],
   "source": [
    "testingset1 = pd.read_csv(\"C:\\\\Users\\\\Areeka Aijaz\\\\Desktop\\\\Lab 4\\\\Occupency_Detection\\\\datatest.txt\")\n",
    "\n",
    "X_test1 = testingset1.iloc[:, 1:-1]\n",
    "Y_test1 = testingset1.iloc[:,-1:].values.ravel()\n",
    "\n",
    "knn = KNeighborsClassifier() \n",
    "knn.fit(X_train, Y_train) \n",
    "\n",
    "print(\"------Test Set 1---------\")\n",
    "\n",
    "predictions = knn.predict(X_test1) \n",
    "print(\"Accuracy Score: \", round(accuracy_score(Y_test1, predictions), 2)) \n",
    "print(\"\\nConfusion Matrix\\n\",confusion_matrix(Y_test1, predictions)) \n",
    "print(\"\\nClassification Report\\n\",classification_report(Y_test1, predictions))"
   ]
  },
  {
   "cell_type": "markdown",
   "metadata": {},
   "source": [
    "# Load & Predict Testset 2"
   ]
  },
  {
   "cell_type": "code",
   "execution_count": 4,
   "metadata": {},
   "outputs": [
    {
     "name": "stdout",
     "output_type": "stream",
     "text": [
      "------Test Set 2---------\n",
      "Accuracy Score:  0.96\n",
      "\n",
      "Confusion Matrix\n",
      " [[7385  318]\n",
      " [  51 1998]]\n",
      "\n",
      "Classification Report\n",
      "               precision    recall  f1-score   support\n",
      "\n",
      "           0       0.99      0.96      0.98      7703\n",
      "           1       0.86      0.98      0.92      2049\n",
      "\n",
      "   micro avg       0.96      0.96      0.96      9752\n",
      "   macro avg       0.93      0.97      0.95      9752\n",
      "weighted avg       0.97      0.96      0.96      9752\n",
      "\n"
     ]
    }
   ],
   "source": [
    "testingset2 = pd.read_csv(\"C:\\\\Users\\\\Areeka Aijaz\\\\Desktop\\\\Lab 4\\\\Occupency_Detection\\\\datatest2.txt\")\n",
    "\n",
    "X_test2 = testingset2.iloc[:, 1:-1]\n",
    "Y_test2 = testingset2.iloc[:,-1:].values.ravel()\n",
    "\n",
    "knn = KNeighborsClassifier() \n",
    "knn.fit(X_train, Y_train) \n",
    "\n",
    "print(\"------Test Set 2---------\")\n",
    "\n",
    "predictions = knn.predict(X_test2) \n",
    "print(\"Accuracy Score: \", round(accuracy_score(Y_test2, predictions), 2)) \n",
    "print(\"\\nConfusion Matrix\\n\",confusion_matrix(Y_test2, predictions)) \n",
    "print(\"\\nClassification Report\\n\",classification_report(Y_test2, predictions))"
   ]
  },
  {
   "cell_type": "code",
   "execution_count": null,
   "metadata": {},
   "outputs": [],
   "source": []
  }
 ],
 "metadata": {
  "kernelspec": {
   "display_name": "Python 3",
   "language": "python",
   "name": "python3"
  },
  "language_info": {
   "codemirror_mode": {
    "name": "ipython",
    "version": 3
   },
   "file_extension": ".py",
   "mimetype": "text/x-python",
   "name": "python",
   "nbconvert_exporter": "python",
   "pygments_lexer": "ipython3",
   "version": "3.7.3"
  }
 },
 "nbformat": 4,
 "nbformat_minor": 2
}
