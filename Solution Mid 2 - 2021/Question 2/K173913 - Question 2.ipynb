{
 "cells": [
  {
   "cell_type": "code",
   "execution_count": 1,
   "metadata": {
    "collapsed": true
   },
   "outputs": [],
   "source": [
    "import pandas as pd\n",
    "import numpy as np\n",
    "\n",
    "from sklearn.model_selection import KFold\n",
    "from sklearn.metrics import accuracy_score\n",
    "from sklearn.model_selection import train_test_split\n",
    "\n",
    "from sklearn.datasets import load_breast_cancer\n",
    "\n",
    "from sklearn.naive_bayes import GaussianNB\n",
    "from sklearn.tree import DecisionTreeClassifier\n",
    "from sklearn.svm import SVC \n",
    "from sklearn.ensemble import VotingClassifier"
   ]
  },
  {
   "cell_type": "code",
   "execution_count": 2,
   "metadata": {},
   "outputs": [
    {
     "name": "stdout",
     "output_type": "stream",
     "text": [
      "Size of Training Data:  (398, 30) (398,)\n",
      "Size of Testing Data:  (171, 30) (171,)\n"
     ]
    }
   ],
   "source": [
    "breast_cancer = load_breast_cancer()\n",
    "\n",
    "X = breast_cancer.data\n",
    "Y = breast_cancer.target\n",
    "\n",
    "X_train, X_test, y_train, y_test = train_test_split(X, Y, test_size = 0.3)\n",
    "print(\"Size of Training Data: \", X_train.shape, y_train.shape)\n",
    "print(\"Size of Testing Data: \", X_test.shape, y_test.shape)"
   ]
  },
  {
   "cell_type": "markdown",
   "metadata": {},
   "source": [
    "# Training data of KFold & Testing data of hold out used (30%)"
   ]
  },
  {
   "cell_type": "code",
   "execution_count": 3,
   "metadata": {},
   "outputs": [
    {
     "name": "stdout",
     "output_type": "stream",
     "text": [
      "Fold 1: Accuracy using Naive Bayes: 0.9415204678362573\n",
      "Fold 2: Accuracy using Decision Tree: 0.9883040935672515\n",
      "Fold 3: Accuracy using SVM: 0.9649122807017544\n",
      "Accuracy using majority voting : 0.9649122807017544\n"
     ]
    }
   ],
   "source": [
    "CV = KFold(n_splits = 3)\n",
    "fold = 1\n",
    "algo = [\"Naive Bayes\", \"Decision Tree\", \"SVM\"]\n",
    "accuracy = []\n",
    "\n",
    "for train_index, test_index in CV.split(X):\n",
    "    \n",
    "    X_train, y_train = X[train_index], Y[train_index]\n",
    "    \n",
    "    if (fold == 1): \n",
    "        model1 = GaussianNB()\n",
    "        model1.fit(X_train, y_train)\n",
    "        y_pred = model1.predict(X_test)\n",
    "        \n",
    "    if (fold == 2): \n",
    "        model2 = DecisionTreeClassifier() \n",
    "        model2.fit(X_train, y_train)\n",
    "        y_pred = model2.predict(X_test)\n",
    "    \n",
    "    if (fold == 3): \n",
    "        model3 = SVC(kernel='linear', C = 1)\n",
    "        model3.fit(X_train, y_train)\n",
    "        y_pred = model3.predict(X_test)\n",
    "\n",
    "    acc = accuracy_score(y_test, y_pred)\n",
    "    accuracy.append(acc)\n",
    "    print(f\"Fold {fold}: Accuracy using {algo[fold-1]}: {acc}\")\n",
    "    fold += 1\n",
    "    \n",
    "ensemble = VotingClassifier(estimators=[('gnb', model1), ('dt', model2), ('svm', model3)], voting='hard')\n",
    "ensemble.fit(X_train, y_train)\n",
    "y_pred = ensemble.predict(X_test)\n",
    "final_acc = accuracy_score(y_test, y_pred)\n",
    "print(f\"Accuracy using majority voting : {final_acc}\")"
   ]
  },
  {
   "cell_type": "code",
   "execution_count": null,
   "metadata": {
    "collapsed": true
   },
   "outputs": [],
   "source": []
  }
 ],
 "metadata": {
  "kernelspec": {
   "display_name": "Python 3",
   "language": "python",
   "name": "python3"
  },
  "language_info": {
   "codemirror_mode": {
    "name": "ipython",
    "version": 3
   },
   "file_extension": ".py",
   "mimetype": "text/x-python",
   "name": "python",
   "nbconvert_exporter": "python",
   "pygments_lexer": "ipython3",
   "version": "3.6.1"
  }
 },
 "nbformat": 4,
 "nbformat_minor": 2
}
