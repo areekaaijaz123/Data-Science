{
 "cells": [
  {
   "cell_type": "code",
   "execution_count": 1,
   "metadata": {},
   "outputs": [],
   "source": [
    "import pandas as pd\n",
    "import numpy as np\n",
    "\n",
    "from sklearn.metrics import accuracy_score\n",
    "from sklearn.model_selection import train_test_split\n",
    "\n",
    "from sklearn.naive_bayes import GaussianNB\n",
    "from sklearn.tree import DecisionTreeClassifier\n",
    "from sklearn.svm import SVC \n",
    "from sklearn.ensemble import VotingClassifier"
   ]
  },
  {
   "cell_type": "code",
   "execution_count": 2,
   "metadata": {},
   "outputs": [],
   "source": [
    "train = pd.read_csv(\"german_train.csv\", header=None)\n",
    "test = pd.read_csv(\"german_test.csv\", header=None)"
   ]
  },
  {
   "cell_type": "code",
   "execution_count": 3,
   "metadata": {},
   "outputs": [
    {
     "name": "stdout",
     "output_type": "stream",
     "text": [
      "(700, 25) (300, 25)\n"
     ]
    }
   ],
   "source": [
    "print(train.shape, test.shape)"
   ]
  },
  {
   "cell_type": "code",
   "execution_count": 4,
   "metadata": {},
   "outputs": [],
   "source": [
    "X_train = train.iloc[:, 0:-1]\n",
    "y_train = train[24]\n",
    "\n",
    "X_test = test.iloc[:, 0:-1]\n",
    "y_test = test[24]"
   ]
  },
  {
   "cell_type": "code",
   "execution_count": 5,
   "metadata": {},
   "outputs": [],
   "source": [
    "model1 = GaussianNB()\n",
    "model1.fit(X_train, y_train)\n",
    "y_pred = model1.predict(X_test)\n",
    "model1_acc = accuracy_score(y_test, y_pred)"
   ]
  },
  {
   "cell_type": "code",
   "execution_count": 6,
   "metadata": {},
   "outputs": [],
   "source": [
    "model2 = DecisionTreeClassifier()\n",
    "X_train_, X_test_, y_train_, y_test_ = train_test_split(X_train, y_train, test_size=0.44, random_state=1)\n",
    "model2.fit(X_train_, y_train_)\n",
    "y_pred = model2.predict(X_test)\n",
    "model2_acc = accuracy_score(y_test, y_pred)"
   ]
  },
  {
   "cell_type": "code",
   "execution_count": 7,
   "metadata": {},
   "outputs": [],
   "source": [
    "model3 = DecisionTreeClassifier()\n",
    "X_train_, X_test_, y_train_, y_test_ = train_test_split(X_train, y_train, test_size=0.44, random_state=2)\n",
    "model3.fit(X_train_, y_train_)\n",
    "y_pred = model3.predict(X_test)\n",
    "model3_acc = accuracy_score(y_test, y_pred)"
   ]
  },
  {
   "cell_type": "code",
   "execution_count": 8,
   "metadata": {},
   "outputs": [],
   "source": [
    "model4 = SVC(kernel=\"linear\", C=1)\n",
    "model4.fit(X_train, y_train)\n",
    "y_pred = model4.predict(X_test)\n",
    "model4_acc = accuracy_score(y_test, y_pred)"
   ]
  },
  {
   "cell_type": "code",
   "execution_count": 9,
   "metadata": {},
   "outputs": [],
   "source": [
    "final = VotingClassifier(estimators=[('gnb', model1), ('dt1', model2), ('dt2', model3), ('svm', model4)], voting='hard')\n",
    "final.fit(X_train, y_train)\n",
    "y_pred = final.predict(X_test)\n",
    "final_acc = accuracy_score(y_test, y_pred)"
   ]
  },
  {
   "cell_type": "code",
   "execution_count": 10,
   "metadata": {},
   "outputs": [
    {
     "name": "stdout",
     "output_type": "stream",
     "text": [
      "Accuracy using Naive Bayes: 0.74\n",
      "Accuracy using Decision Tree and random seed = 1: 0.6766666666666666\n",
      "Accuracy using Decision Tree and random seed = 2: 0.7033333333333334\n",
      "Accuracy using SVM: 0.7966666666666666\n",
      "Accuracy using Ensemble Classifier: 0.7833333333333333\n"
     ]
    }
   ],
   "source": [
    "print(f\"Accuracy using Naive Bayes: {model1_acc}\")\n",
    "print(f\"Accuracy using Decision Tree and random seed = 1: {model2_acc}\")\n",
    "print(f\"Accuracy using Decision Tree and random seed = 2: {model3_acc}\")\n",
    "print(f\"Accuracy using SVM: {model4_acc}\")\n",
    "print(f\"Accuracy using Ensemble Classifier: {final_acc}\")"
   ]
  }
 ],
 "metadata": {
  "kernelspec": {
   "display_name": "Python 3",
   "language": "python",
   "name": "python3"
  },
  "language_info": {
   "codemirror_mode": {
    "name": "ipython",
    "version": 3
   },
   "file_extension": ".py",
   "mimetype": "text/x-python",
   "name": "python",
   "nbconvert_exporter": "python",
   "pygments_lexer": "ipython3",
   "version": "3.7.3"
  }
 },
 "nbformat": 4,
 "nbformat_minor": 2
}
