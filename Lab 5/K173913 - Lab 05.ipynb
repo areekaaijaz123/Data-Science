{
 "cells": [
  {
   "cell_type": "code",
   "execution_count": 1,
   "metadata": {},
   "outputs": [],
   "source": [
    "import numpy as np\n",
    "import pandas as pd\n",
    "import math"
   ]
  },
  {
   "cell_type": "code",
   "execution_count": 2,
   "metadata": {},
   "outputs": [
    {
     "data": {
      "text/html": [
       "<div>\n",
       "<style scoped>\n",
       "    .dataframe tbody tr th:only-of-type {\n",
       "        vertical-align: middle;\n",
       "    }\n",
       "\n",
       "    .dataframe tbody tr th {\n",
       "        vertical-align: top;\n",
       "    }\n",
       "\n",
       "    .dataframe thead th {\n",
       "        text-align: right;\n",
       "    }\n",
       "</style>\n",
       "<table border=\"1\" class=\"dataframe\">\n",
       "  <thead>\n",
       "    <tr style=\"text-align: right;\">\n",
       "      <th></th>\n",
       "      <th>Refund</th>\n",
       "      <th>Marital Status</th>\n",
       "      <th>Taxable Income</th>\n",
       "      <th>Evade</th>\n",
       "    </tr>\n",
       "  </thead>\n",
       "  <tbody>\n",
       "    <tr>\n",
       "      <th>0</th>\n",
       "      <td>Yes</td>\n",
       "      <td>Single</td>\n",
       "      <td>125</td>\n",
       "      <td>No</td>\n",
       "    </tr>\n",
       "    <tr>\n",
       "      <th>1</th>\n",
       "      <td>No</td>\n",
       "      <td>Married</td>\n",
       "      <td>100</td>\n",
       "      <td>No</td>\n",
       "    </tr>\n",
       "    <tr>\n",
       "      <th>2</th>\n",
       "      <td>No</td>\n",
       "      <td>Single</td>\n",
       "      <td>70</td>\n",
       "      <td>No</td>\n",
       "    </tr>\n",
       "    <tr>\n",
       "      <th>3</th>\n",
       "      <td>Yes</td>\n",
       "      <td>Married</td>\n",
       "      <td>120</td>\n",
       "      <td>No</td>\n",
       "    </tr>\n",
       "    <tr>\n",
       "      <th>4</th>\n",
       "      <td>No</td>\n",
       "      <td>Divorced</td>\n",
       "      <td>95</td>\n",
       "      <td>Yes</td>\n",
       "    </tr>\n",
       "    <tr>\n",
       "      <th>5</th>\n",
       "      <td>No</td>\n",
       "      <td>Married</td>\n",
       "      <td>60</td>\n",
       "      <td>No</td>\n",
       "    </tr>\n",
       "    <tr>\n",
       "      <th>6</th>\n",
       "      <td>Yes</td>\n",
       "      <td>Divorced</td>\n",
       "      <td>220</td>\n",
       "      <td>No</td>\n",
       "    </tr>\n",
       "    <tr>\n",
       "      <th>7</th>\n",
       "      <td>No</td>\n",
       "      <td>Single</td>\n",
       "      <td>85</td>\n",
       "      <td>Yes</td>\n",
       "    </tr>\n",
       "    <tr>\n",
       "      <th>8</th>\n",
       "      <td>No</td>\n",
       "      <td>Married</td>\n",
       "      <td>75</td>\n",
       "      <td>No</td>\n",
       "    </tr>\n",
       "    <tr>\n",
       "      <th>9</th>\n",
       "      <td>No</td>\n",
       "      <td>Single</td>\n",
       "      <td>90</td>\n",
       "      <td>Yes</td>\n",
       "    </tr>\n",
       "  </tbody>\n",
       "</table>\n",
       "</div>"
      ],
      "text/plain": [
       "  Refund Marital Status  Taxable Income Evade\n",
       "0    Yes         Single             125    No\n",
       "1     No        Married             100    No\n",
       "2     No         Single              70    No\n",
       "3    Yes        Married             120    No\n",
       "4     No       Divorced              95   Yes\n",
       "5     No        Married              60    No\n",
       "6    Yes       Divorced             220    No\n",
       "7     No         Single              85   Yes\n",
       "8     No        Married              75    No\n",
       "9     No         Single              90   Yes"
      ]
     },
     "execution_count": 2,
     "metadata": {},
     "output_type": "execute_result"
    }
   ],
   "source": [
    "data = pd.read_csv(\"Data.csv\")\n",
    "data"
   ]
  },
  {
   "cell_type": "code",
   "execution_count": 3,
   "metadata": {},
   "outputs": [],
   "source": [
    "def Calculate_Prior_Prob(data, target):\n",
    "    \n",
    "    total_data = len(data)\n",
    "    \n",
    "    yes =  data[data[target] == 'Yes']\n",
    "    no = data[data[target] == 'No']\n",
    "    \n",
    "    print(yes.head(), '\\n')\n",
    "    print(no.head(), '\\n')\n",
    "    \n",
    "    prob_yes = len(yes)/total_data\n",
    "    prob_no = len(no)/total_data \n",
    "    \n",
    "    return (prob_yes, prob_no)"
   ]
  },
  {
   "cell_type": "code",
   "execution_count": 4,
   "metadata": {},
   "outputs": [],
   "source": [
    "def Discrete_Attribute_Prob(data, target, disc_attr):\n",
    "    \n",
    "    yes =  data[data[target] == 'Yes']\n",
    "    no = data[data[target] == 'No']\n",
    "    \n",
    "    # to get unque values of discrete attribute\n",
    "    unique_val = data[disc_attr].unique()\n",
    "    \n",
    "    # for calculating probability of discrete attributes\n",
    "    attr_yes = {}\n",
    "    attr_no = {}\n",
    "    \n",
    "    for i in unique_val:\n",
    "        temp_yes = yes[yes[disc_attr] == i]\n",
    "        attr_yes[i] = round(len(temp_yes)/len(yes), 2)\n",
    "        \n",
    "        temp_no = no[no[disc_attr] == i]\n",
    "        attr_no[i] = round(len(temp_no)/len(no), 2)\n",
    "        \n",
    "    return (attr_yes, attr_no)"
   ]
  },
  {
   "cell_type": "code",
   "execution_count": 5,
   "metadata": {},
   "outputs": [],
   "source": [
    "def Continuous_Attribute_Prob(data, target, cont_attr, val):\n",
    "    \n",
    "    pi = 3.14159265\n",
    "    \n",
    "    yes =  data[data[target] == 'Yes']\n",
    "    no = data[data[target] == 'No']    \n",
    "    \n",
    "    mean_yes = round(yes.mean(), 2)\n",
    "    mean_no = round(no.mean(), 2)\n",
    "    \n",
    "    st_dev_yes = round(yes.var(), 2)\n",
    "    st_dev_no = round(no.var(), 2)\n",
    "    \n",
    "    attr_yes = math.exp(-((val - mean_yes[cont_attr])**2)/(2*st_dev_yes[cont_attr]))\n",
    "    attr_yes /= math.sqrt(2*pi*st_dev_yes[cont_attr])\n",
    "    attr_yes = round(attr_yes, 5)\n",
    "    \n",
    "    attr_no = math.exp(-((val - mean_no[cont_attr])**2)/(2*st_dev_no[cont_attr]))\n",
    "    attr_no /= math.sqrt(2*pi*st_dev_no[cont_attr])\n",
    "    attr_no = round(attr_no, 5)\n",
    "    \n",
    "    return (attr_yes, attr_no)"
   ]
  },
  {
   "cell_type": "code",
   "execution_count": 6,
   "metadata": {},
   "outputs": [
    {
     "name": "stdout",
     "output_type": "stream",
     "text": [
      "  Refund Marital Status  Taxable Income Evade\n",
      "4     No       Divorced              95   Yes\n",
      "7     No         Single              85   Yes\n",
      "9     No         Single              90   Yes \n",
      "\n",
      "  Refund Marital Status  Taxable Income Evade\n",
      "0    Yes         Single             125    No\n",
      "1     No        Married             100    No\n",
      "2     No         Single              70    No\n",
      "3    Yes        Married             120    No\n",
      "5     No        Married              60    No \n",
      "\n",
      "Prior Probability of Yes (Evade): 0.3\n",
      "Prior Probability of No (Evade): 0.7\n",
      "\n",
      "Probability for Refund\n",
      "Probability of Yes:  {'Yes': 0.0, 'No': 1.0}\n",
      "Probability of No:  {'Yes': 0.43, 'No': 0.57}\n",
      "\n",
      "Probability for Marital Status\n",
      "Probability of Yes:  {'Single': 0.67, 'Married': 0.0, 'Divorced': 0.33}\n",
      "Probability of No:  {'Single': 0.29, 'Married': 0.57, 'Divorced': 0.14}\n"
     ]
    }
   ],
   "source": [
    "prob_yes, prob_no = Calculate_Prior_Prob(data, 'Evade')\n",
    "print(f'Prior Probability of Yes (Evade): {prob_yes}')\n",
    "print(f'Prior Probability of No (Evade): {prob_no}')\n",
    "\n",
    "print(\"\\nProbability for Refund\")\n",
    "prob_yes_1, prob_no_1 = Discrete_Attribute_Prob(data, 'Evade', 'Refund')\n",
    "print(\"Probability of Yes: \", prob_yes_1)\n",
    "print(\"Probability of No: \", prob_no_1)\n",
    "\n",
    "print(\"\\nProbability for Marital Status\")\n",
    "prob_yes_2, prob_no_2 = Discrete_Attribute_Prob(data, 'Evade', 'Marital Status')\n",
    "print(\"Probability of Yes: \", prob_yes_2)\n",
    "print(\"Probability of No: \", prob_no_2)"
   ]
  },
  {
   "cell_type": "code",
   "execution_count": 7,
   "metadata": {},
   "outputs": [
    {
     "name": "stdout",
     "output_type": "stream",
     "text": [
      "Predict Label for P(No, Married, 120K)\n",
      "\n",
      "Predicting Yes 0.0\n",
      "\n",
      "Predicting No 0.00164\n",
      "\n",
      "Label for P(No, Married, 120K) = No Evade\n"
     ]
    }
   ],
   "source": [
    "prob_yes_3, prob_no_3 = Continuous_Attribute_Prob(data, 'Evade', 'Taxable Income', 120)\n",
    "\n",
    "print(\"Predict Label for P(No, Married, 120K)\")\n",
    "\n",
    "print(\"\\nPredicting Yes\", end=\" \")\n",
    "result_yes = round(prob_yes * prob_yes_1['No'] * prob_yes_2['Married'] * prob_yes_3 , 5)\n",
    "print(result_yes)\n",
    "\n",
    "print(\"\\nPredicting No\", end=\" \")\n",
    "result_no = round(prob_no * prob_no_1['No'] * prob_no_2['Married'] * prob_no_3  , 5)\n",
    "print(result_no)\n",
    "\n",
    "print('\\nLabel for P(No, Married, 120K) =', end = \" \")\n",
    "print('Yes Evade') if result_yes > result_no else print('No Evade') "
   ]
  },
  {
   "cell_type": "code",
   "execution_count": 8,
   "metadata": {},
   "outputs": [
    {
     "name": "stdout",
     "output_type": "stream",
     "text": [
      "Predict Label for P(Yes, Divorced, 90K)\n",
      "\n",
      "Predicting Yes 0.0\n",
      "\n",
      "Predicting No 0.00029\n",
      "\n",
      "Label for P(Yes, Divorced, 90K) = No Evade\n"
     ]
    }
   ],
   "source": [
    "prob_yes_3, prob_no_3 = Continuous_Attribute_Prob(data, 'Evade', 'Taxable Income', 90)\n",
    "\n",
    "print(\"Predict Label for P(Yes, Divorced, 90K)\")\n",
    "\n",
    "print(\"\\nPredicting Yes\", end=\" \")\n",
    "result_yes = round(prob_yes * prob_yes_1['Yes'] * prob_yes_2['Divorced'] * prob_yes_3 , 5)\n",
    "print(result_yes)\n",
    "\n",
    "print(\"\\nPredicting No\", end=\" \")\n",
    "result_no = round(prob_no * prob_no_1['Yes'] * prob_no_2['Divorced'] * prob_no_3  , 5)\n",
    "print(result_no)\n",
    "\n",
    "print('\\nLabel for P(Yes, Divorced, 90K) =', end = \" \")\n",
    "print('Yes Evade') if result_yes > result_no else print('No Evade') "
   ]
  },
  {
   "cell_type": "code",
   "execution_count": 9,
   "metadata": {},
   "outputs": [
    {
     "name": "stdout",
     "output_type": "stream",
     "text": [
      "Predict Label for P(No, Married, 60K)\n",
      "\n",
      "Predicting Yes 0.0\n",
      "\n",
      "Predicting No 0.00109\n",
      "\n",
      "Label for P(No, Married, 60K) = No Evade\n"
     ]
    }
   ],
   "source": [
    "prob_yes_3, prob_no_3 = Continuous_Attribute_Prob(data, 'Evade', 'Taxable Income', 60)\n",
    "\n",
    "print(\"Predict Label for P(No, Married, 60K)\")\n",
    "\n",
    "print(\"\\nPredicting Yes\", end=\" \")\n",
    "result_yes = round(prob_yes * prob_yes_1['No'] * prob_yes_2['Married'] * prob_yes_3 , 5)\n",
    "print(result_yes)\n",
    "\n",
    "print(\"\\nPredicting No\", end=\" \")\n",
    "result_no = round(prob_no * prob_no_1['No'] * prob_no_2['Married'] * prob_no_3  , 5)\n",
    "print(result_no)\n",
    "\n",
    "print('\\nLabel for P(No, Married, 60K) =', end = \" \")\n",
    "print('Yes Evade') if result_yes > result_no else print('No Evade') "
   ]
  },
  {
   "cell_type": "code",
   "execution_count": null,
   "metadata": {},
   "outputs": [],
   "source": []
  }
 ],
 "metadata": {
  "kernelspec": {
   "display_name": "Python 3",
   "language": "python",
   "name": "python3"
  },
  "language_info": {
   "codemirror_mode": {
    "name": "ipython",
    "version": 3
   },
   "file_extension": ".py",
   "mimetype": "text/x-python",
   "name": "python",
   "nbconvert_exporter": "python",
   "pygments_lexer": "ipython3",
   "version": "3.7.3"
  }
 },
 "nbformat": 4,
 "nbformat_minor": 2
}
