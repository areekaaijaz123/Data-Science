{
 "cells": [
  {
   "cell_type": "markdown",
   "metadata": {},
   "source": [
    "# LAB TASK 1\n",
    "\n",
    "## Name: Areeka Aijaz\n",
    "## ID: K17-3913\n",
    "## Date: 10/February/2021"
   ]
  },
  {
   "cell_type": "markdown",
   "metadata": {},
   "source": [
    "# Question 2"
   ]
  },
  {
   "cell_type": "code",
   "execution_count": 1,
   "metadata": {},
   "outputs": [],
   "source": [
    "import math"
   ]
  },
  {
   "cell_type": "code",
   "execution_count": 2,
   "metadata": {},
   "outputs": [],
   "source": [
    "def calculate_determinant(a, b, c):\n",
    "    d = b*b - 4*a*c\n",
    "    return d"
   ]
  },
  {
   "cell_type": "code",
   "execution_count": 3,
   "metadata": {},
   "outputs": [],
   "source": [
    "def get_roots(D):\n",
    "    if (D > 0):\n",
    "        x1 = (-b + math.sqrt(D))/(2*a)\n",
    "        x2 = (-b - math.sqrt(D))/(2*a)\n",
    "        root = (x1, x2)\n",
    "    \n",
    "    elif (D == 0):\n",
    "        root = -b/(2*a)\n",
    "        \n",
    "    elif (D < 0):\n",
    "        root = \"Only Complex roots\"\n",
    "        \n",
    "    return root"
   ]
  },
  {
   "cell_type": "code",
   "execution_count": 4,
   "metadata": {},
   "outputs": [],
   "source": [
    "def take_inputs():\n",
    "    a = float(input(\"Enter a: \"))\n",
    "    b = float(input(\"Enter b: \"))\n",
    "    c = float(input(\"Enter c: \"))\n",
    "    return (a, b, c)"
   ]
  },
  {
   "cell_type": "code",
   "execution_count": 5,
   "metadata": {},
   "outputs": [
    {
     "name": "stdout",
     "output_type": "stream",
     "text": [
      "Enter a: 1\n",
      "Enter b: 5\n",
      "Enter c: 6\n"
     ]
    },
    {
     "data": {
      "text/plain": [
       "(-2.0, -3.0)"
      ]
     },
     "execution_count": 5,
     "metadata": {},
     "output_type": "execute_result"
    }
   ],
   "source": [
    "a, b, c = take_inputs()\n",
    "D = calculate_determinant(a, b, c)\n",
    "get_roots(D)"
   ]
  },
  {
   "cell_type": "markdown",
   "metadata": {},
   "source": [
    "# Question 3"
   ]
  },
  {
   "cell_type": "code",
   "execution_count": 6,
   "metadata": {},
   "outputs": [],
   "source": [
    "def smaller(arr, n, k):\n",
    "    count = 0\n",
    "    for i in arr:\n",
    "        if (i < k):\n",
    "            count += 1\n",
    "            \n",
    "    return count"
   ]
  },
  {
   "cell_type": "code",
   "execution_count": 7,
   "metadata": {},
   "outputs": [],
   "source": [
    "arr = [4,10,20,30,32,15]"
   ]
  },
  {
   "cell_type": "code",
   "execution_count": 8,
   "metadata": {},
   "outputs": [
    {
     "name": "stdout",
     "output_type": "stream",
     "text": [
      "Array:  [4, 10, 20, 30, 32, 15]\n",
      "Total smaller values:  3\n"
     ]
    }
   ],
   "source": [
    "print(\"Array: \",arr) \n",
    "print(\"Total smaller values: \", smaller(arr, 6, 20))"
   ]
  },
  {
   "cell_type": "markdown",
   "metadata": {},
   "source": [
    "# Question 4"
   ]
  },
  {
   "cell_type": "code",
   "execution_count": 9,
   "metadata": {},
   "outputs": [
    {
     "name": "stdout",
     "output_type": "stream",
     "text": [
      "[12, 24, 35, 88, 120, 155]\n"
     ]
    }
   ],
   "source": [
    "list_ = [12,24,35,24,88,120,155,88,120,155]\n",
    "print(sorted(set(list_), key = list_.index))"
   ]
  },
  {
   "cell_type": "markdown",
   "metadata": {},
   "source": [
    "# Question 5"
   ]
  },
  {
   "cell_type": "code",
   "execution_count": 10,
   "metadata": {},
   "outputs": [
    {
     "name": "stdout",
     "output_type": "stream",
     "text": [
      "{35}\n"
     ]
    }
   ],
   "source": [
    "list1 = [1,3,6,78,35,55]\n",
    "list2 = [12,24,35,24,88,120,155]\n",
    "\n",
    "print(set(list1) & set(list2))"
   ]
  },
  {
   "cell_type": "markdown",
   "metadata": {},
   "source": [
    "# Question 6"
   ]
  },
  {
   "cell_type": "code",
   "execution_count": 11,
   "metadata": {},
   "outputs": [],
   "source": [
    "def calculate_bmi(weight, height):\n",
    "    bmi = round(weight / (height*height), 3)\n",
    "    return bmi"
   ]
  },
  {
   "cell_type": "code",
   "execution_count": 12,
   "metadata": {},
   "outputs": [],
   "source": [
    "def take_input():\n",
    "    w = float(input(\"Enter weight: \"))\n",
    "    h = float(input(\"Enter height: \"))\n",
    "    return (w, h)"
   ]
  },
  {
   "cell_type": "code",
   "execution_count": 13,
   "metadata": {},
   "outputs": [
    {
     "name": "stdout",
     "output_type": "stream",
     "text": [
      "Enter weight: 64\n",
      "Enter height: 5\n",
      "BMI of a person with 64.0 kg weight & 5.0 feet height : 2.56\n"
     ]
    }
   ],
   "source": [
    "weight, height = take_input()\n",
    "bmi = calculate_bmi(weight, height)\n",
    "print(f\"BMI of a person with {weight} kg weight & {height} feet height : {bmi}\")"
   ]
  },
  {
   "cell_type": "markdown",
   "metadata": {},
   "source": [
    "# Question 7"
   ]
  },
  {
   "cell_type": "code",
   "execution_count": 14,
   "metadata": {},
   "outputs": [
    {
     "name": "stdout",
     "output_type": "stream",
     "text": [
      "Enter total sales : 32000\n",
      "Total sales after 7 years : Rs. 200795.25\n"
     ]
    }
   ],
   "source": [
    "growth_multiplier = 1.3\n",
    "sales = float(input(\"Enter total sales : \"))\n",
    "#year = int(input(\"Enter total years: \"))\n",
    "year = 7\n",
    "\n",
    "sales = round(sales * (growth_multiplier**year), 2)\n",
    "\n",
    "print(f\"Total sales after {year} years : Rs. {sales}\")"
   ]
  },
  {
   "cell_type": "markdown",
   "metadata": {},
   "source": [
    "# Question 8"
   ]
  },
  {
   "cell_type": "code",
   "execution_count": 15,
   "metadata": {},
   "outputs": [
    {
     "name": "stdout",
     "output_type": "stream",
     "text": [
      "Enter mass in kg: 43\n",
      "Mass of Stone : 6.757 kg\n"
     ]
    }
   ],
   "source": [
    "m_kg = float(input(\"Enter mass in kg: \"))\n",
    "\n",
    "M_Stone = round((m_kg * 2.2) / 14, 3)\n",
    "\n",
    "print(f\"Mass of Stone : {M_Stone} kg\")"
   ]
  },
  {
   "cell_type": "markdown",
   "metadata": {},
   "source": [
    "# Question 9"
   ]
  },
  {
   "cell_type": "code",
   "execution_count": 16,
   "metadata": {},
   "outputs": [
    {
     "name": "stdout",
     "output_type": "stream",
     "text": [
      "Enter total no. of Rooms: 3\n",
      "Enter room: Hall\n",
      "Enter area: 11.3\n",
      "Enter room: Kitchen\n",
      "Enter area: 6\n",
      "Enter room: Bedroom\n",
      "Enter area: 12.5\n",
      "['Hall11.3', 'Kitchen6.0', 'Bedroom12.5']\n"
     ]
    }
   ],
   "source": [
    "Total_rooms = int(input(\"Enter total no. of Rooms: \"))\n",
    "\n",
    "list_1 = []\n",
    "\n",
    "for i in range(Total_rooms):\n",
    "    room = input(\"Enter room: \")\n",
    "    area = float(input(\"Enter area: \"))\n",
    "    list_1.append(room + str(area))\n",
    "    \n",
    "print(list_1)"
   ]
  },
  {
   "cell_type": "markdown",
   "metadata": {},
   "source": [
    "# Question 10"
   ]
  },
  {
   "cell_type": "code",
   "execution_count": 19,
   "metadata": {},
   "outputs": [
    {
     "name": "stdout",
     "output_type": "stream",
     "text": [
      "Enter Student name: Ali\n",
      "Enter GPA of 6 semesters\n",
      "3.24\n",
      "3.00\n",
      "3.5\n",
      "3.67\n",
      "3.84\n",
      "3.4\n",
      "Enter Student name: Sarah\n",
      "Enter GPA of 6 semesters\n",
      "3.00\n",
      "3.2\n",
      "3.23\n",
      "3.67\n",
      "3.00\n",
      "3.4\n",
      "Enter Student name: Ahmed\n",
      "Enter GPA of 6 semesters\n",
      "2.9\n",
      "2.8\n",
      "3.0\n",
      "3.2\n",
      "3.0\n",
      "3.1\n"
     ]
    },
    {
     "data": {
      "text/plain": [
       "{'Ali': [3.24, 3.0, 3.5, 3.67, 3.84, 3.4],\n",
       " 'Sarah': [3.0, 3.2, 3.23, 3.67, 3.0, 3.4],\n",
       " 'Ahmed': [2.9, 2.8, 3.0, 3.2, 3.0, 3.1]}"
      ]
     },
     "execution_count": 19,
     "metadata": {},
     "output_type": "execute_result"
    }
   ],
   "source": [
    "#Total_Students = int(input(\"Enter total no. of Students: \"))\n",
    "Total_Students = 3\n",
    "\n",
    "Student_Data = {}\n",
    "\n",
    "for i in range(Total_Students):\n",
    "    Student_Name = input(\"Enter Student name: \")\n",
    "    Score = []\n",
    "    print(\"Enter GPA of 6 semesters\")\n",
    "    for j in range(0, 6):\n",
    "        s = float(input())\n",
    "        Score.append(s)\n",
    "    Student_Data[Student_Name] = Score\n",
    "    \n",
    "Student_Data"
   ]
  }
 ],
 "metadata": {
  "kernelspec": {
   "display_name": "Python 3",
   "language": "python",
   "name": "python3"
  },
  "language_info": {
   "codemirror_mode": {
    "name": "ipython",
    "version": 3
   },
   "file_extension": ".py",
   "mimetype": "text/x-python",
   "name": "python",
   "nbconvert_exporter": "python",
   "pygments_lexer": "ipython3",
   "version": "3.7.3"
  }
 },
 "nbformat": 4,
 "nbformat_minor": 2
}
