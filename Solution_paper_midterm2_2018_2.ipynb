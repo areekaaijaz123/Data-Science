{
 "cells": [
  {
   "cell_type": "markdown",
   "metadata": {},
   "source": [
    "## Question 1"
   ]
  },
  {
   "cell_type": "markdown",
   "metadata": {},
   "source": [
    "#### Done in Lab Tasks"
   ]
  },
  {
   "cell_type": "markdown",
   "metadata": {},
   "source": [
    "## Question 2"
   ]
  },
  {
   "cell_type": "code",
   "execution_count": 8,
   "metadata": {},
   "outputs": [],
   "source": [
    "import numpy as np\n",
    "import pandas as pd\n",
    "\n",
    "from sklearn import datasets\n",
    "from sklearn.model_selection import KFold\n",
    "from sklearn.metrics import accuracy_score\n",
    "\n",
    "from sklearn.tree import DecisionTreeClassifier\n",
    "from sklearn.svm import SVC \n",
    "from sklearn.naive_bayes import GaussianNB\n",
    "from sklearn.cluster import KMeans\n",
    "from sklearn.neighbors import KNeighborsClassifier"
   ]
  },
  {
   "cell_type": "code",
   "execution_count": 3,
   "metadata": {},
   "outputs": [
    {
     "name": "stdout",
     "output_type": "stream",
     "text": [
      "The number of instances are:  1797\n",
      "The number of attributes are:  64\n"
     ]
    }
   ],
   "source": [
    "digits = datasets.load_digits()\n",
    "print(\"The number of instances are: \", digits.data.shape[0])\n",
    "print(\"The number of attributes are: \", digits.data.shape[1])"
   ]
  },
  {
   "cell_type": "code",
   "execution_count": 4,
   "metadata": {},
   "outputs": [],
   "source": [
    "X = digits.data\n",
    "Y = digits.target"
   ]
  },
  {
   "cell_type": "code",
   "execution_count": 5,
   "metadata": {},
   "outputs": [],
   "source": [
    "CV = KFold(n_splits = 4)"
   ]
  },
  {
   "cell_type": "code",
   "execution_count": 27,
   "metadata": {},
   "outputs": [
    {
     "name": "stdout",
     "output_type": "stream",
     "text": [
      "Fold 1: Accuracy using Decision Tree: 0.8066666666666666\n",
      "Fold 2: Accuracy using SVM: 0.9376391982182628\n",
      "Fold 3: Accuracy using Naive Bayes: 0.8240534521158129\n",
      "Training data after adding cluster output as feature: (1348, 65)\n",
      "Testing data after adding cluster output as feature: (449, 65)\n",
      "Fold 4: Accuracy using KNN: 0.9710467706013363\n"
     ]
    }
   ],
   "source": [
    "fold = 1\n",
    "algo = [\"Decision Tree\", \"SVM\", \"Naive Bayes\", \"KNN\"]\n",
    "\n",
    "for train_index, test_index in CV.split(X):\n",
    "    \n",
    "    X_train, y_train, X_test, y_test = X[train_index], Y[train_index], X[test_index], Y[test_index]\n",
    "    \n",
    "    if (fold == 1): clf = DecisionTreeClassifier()\n",
    "        \n",
    "    if (fold == 2): clf = SVC(kernel='linear', C = 1)\n",
    "        \n",
    "    if (fold == 3): clf = GaussianNB()\n",
    "        \n",
    "    if (fold == 4): \n",
    "        clf = KMeans(n_clusters = 4)\n",
    "        clf.fit(X_train)\n",
    "        y_train_pred = clf.predict(X_train)\n",
    "        y_test_pred = clf.predict(X_test)\n",
    "        \n",
    "        y_train_pred = y_train_pred.reshape(1348, 1)\n",
    "        y_test_pred = y_test_pred.reshape(449, 1)\n",
    "        \n",
    "        X_train = np.hstack((X_train,y_train_pred))\n",
    "        X_test = np.hstack((X_test,y_test_pred))\n",
    "        \n",
    "        print(\"Training data after adding cluster output as feature:\",X_train.shape)\n",
    "        print(\"Testing data after adding cluster output as feature:\",X_test.shape)\n",
    "        \n",
    "        clf = KNeighborsClassifier(n_neighbors = 3)\n",
    "\n",
    "    clf.fit(X_train, y_train)\n",
    "    y_pred = clf.predict(X_test)\n",
    "    acc = accuracy_score(y_test, y_pred)\n",
    "    print(f\"Fold {fold}: Accuracy using {algo[fold-1]}: {acc}\")\n",
    "    fold += 1"
   ]
  },
  {
   "cell_type": "code",
   "execution_count": null,
   "metadata": {},
   "outputs": [],
   "source": []
  }
 ],
 "metadata": {
  "kernelspec": {
   "display_name": "Python 3",
   "language": "python",
   "name": "python3"
  },
  "language_info": {
   "codemirror_mode": {
    "name": "ipython",
    "version": 3
   },
   "file_extension": ".py",
   "mimetype": "text/x-python",
   "name": "python",
   "nbconvert_exporter": "python",
   "pygments_lexer": "ipython3",
   "version": "3.7.3"
  }
 },
 "nbformat": 4,
 "nbformat_minor": 2
}
